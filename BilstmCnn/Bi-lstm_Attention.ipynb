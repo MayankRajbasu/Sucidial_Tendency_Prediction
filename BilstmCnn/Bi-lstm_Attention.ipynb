{
 "cells": [
  {
   "cell_type": "code",
   "execution_count": 25,
   "id": "a00cb841-d369-4bda-89e8-01736268345f",
   "metadata": {},
   "outputs": [],
   "source": [
    "## Neccessary Imports\n",
    "\n",
    "import pandas as pd\n",
    "import numpy as np\n",
    "\n",
    "import re\n",
    "import nltk\n",
    "\n",
    "import seaborn as sns\n",
    "import matplotlib.pyplot as plt\n",
    "from sklearn.model_selection import train_test_split\n",
    "from sklearn.metrics import confusion_matrix, accuracy_score, f1_score, precision_score\n",
    "\n",
    "import tensorflow as tf\n",
    "from tensorflow.keras.preprocessing.text import Tokenizer\n",
    "from tensorflow.keras.preprocessing.sequence import pad_sequences\n",
    "from tensorflow.keras.layers import Input, Embedding, Conv1D, Bidirectional, LSTM, Dense, Attention, Dropout, GlobalMaxPooling1D, Concatenate, Flatten \n",
    "from tensorflow.keras.models import Model\n",
    "\n",
    "from nltk.corpus import stopwords\n",
    "from nltk.stem import WordNetLemmatizer"
   ]
  },
  {
   "cell_type": "code",
   "execution_count": 26,
   "id": "0c41f587-bbbe-46a1-9e56-580f241f46d0",
   "metadata": {},
   "outputs": [
    {
     "data": {
      "text/html": [
       "<div>\n",
       "<style scoped>\n",
       "    .dataframe tbody tr th:only-of-type {\n",
       "        vertical-align: middle;\n",
       "    }\n",
       "\n",
       "    .dataframe tbody tr th {\n",
       "        vertical-align: top;\n",
       "    }\n",
       "\n",
       "    .dataframe thead th {\n",
       "        text-align: right;\n",
       "    }\n",
       "</style>\n",
       "<table border=\"1\" class=\"dataframe\">\n",
       "  <thead>\n",
       "    <tr style=\"text-align: right;\">\n",
       "      <th></th>\n",
       "      <th>tweet</th>\n",
       "      <th>intention</th>\n",
       "    </tr>\n",
       "  </thead>\n",
       "  <tbody>\n",
       "    <tr>\n",
       "      <th>0</th>\n",
       "      <td>my life is meaningless i just want to end my l...</td>\n",
       "      <td>1</td>\n",
       "    </tr>\n",
       "    <tr>\n",
       "      <th>1</th>\n",
       "      <td>muttering i wanna die to myself daily for a fe...</td>\n",
       "      <td>1</td>\n",
       "    </tr>\n",
       "    <tr>\n",
       "      <th>2</th>\n",
       "      <td>work slave i really feel like my only purpose ...</td>\n",
       "      <td>1</td>\n",
       "    </tr>\n",
       "    <tr>\n",
       "      <th>3</th>\n",
       "      <td>i did something on the 2 of october i overdose...</td>\n",
       "      <td>1</td>\n",
       "    </tr>\n",
       "    <tr>\n",
       "      <th>4</th>\n",
       "      <td>i feel like no one cares i just want to die ma...</td>\n",
       "      <td>1</td>\n",
       "    </tr>\n",
       "  </tbody>\n",
       "</table>\n",
       "</div>"
      ],
      "text/plain": [
       "                                               tweet  intention\n",
       "0  my life is meaningless i just want to end my l...          1\n",
       "1  muttering i wanna die to myself daily for a fe...          1\n",
       "2  work slave i really feel like my only purpose ...          1\n",
       "3  i did something on the 2 of october i overdose...          1\n",
       "4  i feel like no one cares i just want to die ma...          1"
      ]
     },
     "execution_count": 26,
     "metadata": {},
     "output_type": "execute_result"
    }
   ],
   "source": [
    "data = pd.read_csv(\"twitter-suicidal_data.csv\")  # adjust filename as per your dataset\n",
    "data.head()\n"
   ]
  },
  {
   "cell_type": "markdown",
   "id": "a5026597-e46f-455d-bd80-03ccc1932c65",
   "metadata": {},
   "source": [
    "## Data Cleaning"
   ]
  },
  {
   "cell_type": "code",
   "execution_count": 27,
   "id": "fd7b7808-5783-4f85-adb9-16c73dc2c8de",
   "metadata": {},
   "outputs": [
    {
     "name": "stderr",
     "output_type": "stream",
     "text": [
      "[nltk_data] Downloading package stopwords to\n",
      "[nltk_data]     C:\\Users\\vaidi\\AppData\\Roaming\\nltk_data...\n",
      "[nltk_data]   Package stopwords is already up-to-date!\n",
      "[nltk_data] Downloading package wordnet to\n",
      "[nltk_data]     C:\\Users\\vaidi\\AppData\\Roaming\\nltk_data...\n",
      "[nltk_data]   Package wordnet is already up-to-date!\n"
     ]
    }
   ],
   "source": [
    "# Download NLTK resources \n",
    "nltk.download('stopwords')\n",
    "nltk.download('wordnet')\n",
    "\n",
    "# Function for data cleaning\n",
    "def clean_text(text):\n",
    "    # Convert to lowercase\n",
    "    text = text.lower()\n",
    "    \n",
    "    # Remove special characters, numbers, and punctuation\n",
    "    text = re.sub(r'[^a-z\\s]', '', text)\n",
    "    \n",
    "    # Remove stopwords\n",
    "    stop_words = set(stopwords.words('english'))\n",
    "    text = ' '.join(word for word in text.split() if word not in stop_words)\n",
    "    \n",
    "    # Lemmatization\n",
    "    lemmatizer = WordNetLemmatizer()\n",
    "    text = ' '.join(lemmatizer.lemmatize(word) for word in text.split())\n",
    "    \n",
    "    return text"
   ]
  },
  {
   "cell_type": "code",
   "execution_count": 28,
   "id": "38531e47-9c63-48ac-af38-d9caa26e6b8e",
   "metadata": {},
   "outputs": [
    {
     "data": {
      "text/html": [
       "<div>\n",
       "<style scoped>\n",
       "    .dataframe tbody tr th:only-of-type {\n",
       "        vertical-align: middle;\n",
       "    }\n",
       "\n",
       "    .dataframe tbody tr th {\n",
       "        vertical-align: top;\n",
       "    }\n",
       "\n",
       "    .dataframe thead th {\n",
       "        text-align: right;\n",
       "    }\n",
       "</style>\n",
       "<table border=\"1\" class=\"dataframe\">\n",
       "  <thead>\n",
       "    <tr style=\"text-align: right;\">\n",
       "      <th></th>\n",
       "      <th>tweet</th>\n",
       "      <th>intention</th>\n",
       "      <th>cleaned_tweet</th>\n",
       "    </tr>\n",
       "  </thead>\n",
       "  <tbody>\n",
       "    <tr>\n",
       "      <th>0</th>\n",
       "      <td>my life is meaningless i just want to end my l...</td>\n",
       "      <td>1</td>\n",
       "      <td>life meaningless want end life badly life comp...</td>\n",
       "    </tr>\n",
       "    <tr>\n",
       "      <th>1</th>\n",
       "      <td>muttering i wanna die to myself daily for a fe...</td>\n",
       "      <td>1</td>\n",
       "      <td>muttering wanna die daily month feel worthless...</td>\n",
       "    </tr>\n",
       "    <tr>\n",
       "      <th>2</th>\n",
       "      <td>work slave i really feel like my only purpose ...</td>\n",
       "      <td>1</td>\n",
       "      <td>work slave really feel like purpose life make ...</td>\n",
       "    </tr>\n",
       "    <tr>\n",
       "      <th>3</th>\n",
       "      <td>i did something on the 2 of october i overdose...</td>\n",
       "      <td>1</td>\n",
       "      <td>something october overdosed felt alone horribl...</td>\n",
       "    </tr>\n",
       "    <tr>\n",
       "      <th>4</th>\n",
       "      <td>i feel like no one cares i just want to die ma...</td>\n",
       "      <td>1</td>\n",
       "      <td>feel like one care want die maybe feel le lonely</td>\n",
       "    </tr>\n",
       "  </tbody>\n",
       "</table>\n",
       "</div>"
      ],
      "text/plain": [
       "                                               tweet  intention  \\\n",
       "0  my life is meaningless i just want to end my l...          1   \n",
       "1  muttering i wanna die to myself daily for a fe...          1   \n",
       "2  work slave i really feel like my only purpose ...          1   \n",
       "3  i did something on the 2 of october i overdose...          1   \n",
       "4  i feel like no one cares i just want to die ma...          1   \n",
       "\n",
       "                                       cleaned_tweet  \n",
       "0  life meaningless want end life badly life comp...  \n",
       "1  muttering wanna die daily month feel worthless...  \n",
       "2  work slave really feel like purpose life make ...  \n",
       "3  something october overdosed felt alone horribl...  \n",
       "4   feel like one care want die maybe feel le lonely  "
      ]
     },
     "execution_count": 28,
     "metadata": {},
     "output_type": "execute_result"
    }
   ],
   "source": [
    "# Apply data cleaning to the 'tweet' column\n",
    "data['cleaned_tweet'] = data['tweet'].apply(clean_text)\n",
    "data.head()"
   ]
  },
  {
   "cell_type": "markdown",
   "id": "735e77ec-950d-44e5-87cc-73ad4982544e",
   "metadata": {},
   "source": [
    "## Data Preprocessing and Data Spliting"
   ]
  },
  {
   "cell_type": "code",
   "execution_count": 29,
   "id": "4bd36919-952f-46d4-a43a-e23e70fe05b5",
   "metadata": {},
   "outputs": [],
   "source": [
    "# Tokenize and pad sequences\n",
    "tokenizer = Tokenizer()\n",
    "tokenizer.fit_on_texts(data['cleaned_tweet'])\n",
    "sequences = tokenizer.texts_to_sequences(data['cleaned_tweet'])\n",
    "padded_sequences = pad_sequences(sequences, maxlen=100, padding='post', truncating='post')"
   ]
  },
  {
   "cell_type": "code",
   "execution_count": 30,
   "id": "b12f0754-0408-4356-ad96-0a053154da9b",
   "metadata": {},
   "outputs": [],
   "source": [
    "# Split the dataset\n",
    "X_train, X_test, y_train, y_test = train_test_split(padded_sequences, data['intention'], test_size=0.25, random_state=42)"
   ]
  },
  {
   "cell_type": "markdown",
   "id": "b9ba6bd9-fb46-4745-82a3-230da81a2f22",
   "metadata": {},
   "source": [
    "## Model Build and Training"
   ]
  },
  {
   "cell_type": "code",
   "execution_count": 31,
   "id": "d79f657e-d5bf-4271-8de6-f5c861e5e8d0",
   "metadata": {},
   "outputs": [
    {
     "name": "stdout",
     "output_type": "stream",
     "text": [
      "Model: \"model_1\"\n",
      "_________________________________________________________________\n",
      " Layer (type)                Output Shape              Param #   \n",
      "=================================================================\n",
      " Input (InputLayer)          [(None, 100)]             0         \n",
      "                                                                 \n",
      " embedding_2 (Embedding)     (None, 100, 50)           1096250   \n",
      "                                                                 \n",
      " bidirectional_2 (Bidirecti  (None, 100, 128)          58880     \n",
      " onal)                                                           \n",
      "                                                                 \n",
      " conv1d_1 (Conv1D)           (None, 98, 64)            24640     \n",
      "                                                                 \n",
      " global_max_pooling1d_1 (Gl  (None, 64)                0         \n",
      " obalMaxPooling1D)                                               \n",
      "                                                                 \n",
      " dense_1 (Dense)             (None, 32)                2080      \n",
      "                                                                 \n",
      " Output (Dense)              (None, 1)                 33        \n",
      "                                                                 \n",
      "=================================================================\n",
      "Total params: 1181883 (4.51 MB)\n",
      "Trainable params: 1181883 (4.51 MB)\n",
      "Non-trainable params: 0 (0.00 Byte)\n",
      "_________________________________________________________________\n"
     ]
    }
   ],
   "source": [
    "max_sequence_length = 100\n",
    "embedding_dim = 50\n",
    "lstm_units = 64\n",
    "dense_units = 32\n",
    "num_filters = 64\n",
    "kernel_size = 3\n",
    "\n",
    "input_layer = Input(shape=(max_sequence_length,), name='Input')\n",
    "embedding_layer = Embedding(input_dim=len(tokenizer.word_index)+1, output_dim=embedding_dim)(input_layer)\n",
    "bilstm_layer = Bidirectional(LSTM(lstm_units, return_sequences=True))(embedding_layer)\n",
    "conv_layer = Conv1D(filters=num_filters, kernel_size=kernel_size, activation='relu')(bilstm_layer)\n",
    "pooling_layer = GlobalMaxPooling1D()(conv_layer)\n",
    "dense_layer = Dense(dense_units, activation='relu')(pooling_layer)\n",
    "output_layer = Dense(1, activation='sigmoid', name='Output')(dense_layer)\n",
    "\n",
    "model = Model(inputs=input_layer, outputs=output_layer)\n",
    "model.compile(optimizer='adam', loss='binary_crossentropy', metrics=['accuracy'])\n",
    "\n",
    "model.summary()\n"
   ]
  },
  {
   "cell_type": "code",
   "execution_count": 32,
   "id": "31602d76-26f7-4b52-94fb-b59fefb614ef",
   "metadata": {},
   "outputs": [
    {
     "name": "stdout",
     "output_type": "stream",
     "text": [
      "Epoch 1/15\n"
     ]
    },
    {
     "name": "stderr",
     "output_type": "stream",
     "text": [
      "c:\\Users\\vaidi\\AppData\\Local\\Programs\\Python\\Python311\\Lib\\site-packages\\keras\\src\\engine\\data_adapter.py:1798: FutureWarning: The behavior of `series[i:j]` with an integer-dtype index is deprecated. In a future version, this will be treated as *label-based* indexing, consistent with e.g. `series[i]` lookups. To retain the old behavior, use `series.iloc[i:j]`. To get the future behavior, use `series.loc[i:j]`.\n",
      "  return t[start:end]\n"
     ]
    },
    {
     "name": "stdout",
     "output_type": "stream",
     "text": [
      "171/171 [==============================] - 22s 98ms/step - loss: 0.3528 - accuracy: 0.8572 - val_loss: 0.2464 - val_accuracy: 0.9145\n",
      "Epoch 2/15\n",
      "171/171 [==============================] - 17s 97ms/step - loss: 0.1864 - accuracy: 0.9373 - val_loss: 0.2453 - val_accuracy: 0.9159\n",
      "Epoch 3/15\n",
      "171/171 [==============================] - 17s 97ms/step - loss: 0.1234 - accuracy: 0.9591 - val_loss: 0.2657 - val_accuracy: 0.9094\n",
      "Epoch 4/15\n",
      "171/171 [==============================] - 17s 100ms/step - loss: 0.0751 - accuracy: 0.9742 - val_loss: 0.2985 - val_accuracy: 0.9079\n",
      "Epoch 5/15\n",
      "171/171 [==============================] - 16s 92ms/step - loss: 0.0503 - accuracy: 0.9814 - val_loss: 0.4056 - val_accuracy: 0.9086\n",
      "Epoch 6/15\n",
      "171/171 [==============================] - 16s 95ms/step - loss: 0.0303 - accuracy: 0.9883 - val_loss: 0.3894 - val_accuracy: 0.9072\n",
      "Epoch 7/15\n",
      "171/171 [==============================] - 15s 90ms/step - loss: 0.0268 - accuracy: 0.9899 - val_loss: 0.4817 - val_accuracy: 0.8911\n",
      "Epoch 8/15\n",
      "171/171 [==============================] - 17s 98ms/step - loss: 0.0192 - accuracy: 0.9945 - val_loss: 0.4985 - val_accuracy: 0.9094\n",
      "Epoch 9/15\n",
      "171/171 [==============================] - 15s 90ms/step - loss: 0.0150 - accuracy: 0.9952 - val_loss: 0.5851 - val_accuracy: 0.9042\n",
      "Epoch 10/15\n",
      "171/171 [==============================] - 16s 91ms/step - loss: 0.0201 - accuracy: 0.9934 - val_loss: 0.5523 - val_accuracy: 0.9035\n",
      "Epoch 11/15\n",
      "171/171 [==============================] - 15s 90ms/step - loss: 0.0218 - accuracy: 0.9931 - val_loss: 0.6248 - val_accuracy: 0.8830\n",
      "Epoch 12/15\n",
      "171/171 [==============================] - 17s 98ms/step - loss: 0.0121 - accuracy: 0.9951 - val_loss: 0.5887 - val_accuracy: 0.9145\n",
      "Epoch 13/15\n",
      "171/171 [==============================] - 16s 91ms/step - loss: 0.0099 - accuracy: 0.9967 - val_loss: 0.7662 - val_accuracy: 0.8933\n",
      "Epoch 14/15\n",
      "171/171 [==============================] - 16s 93ms/step - loss: 0.0066 - accuracy: 0.9971 - val_loss: 0.7218 - val_accuracy: 0.8977\n",
      "Epoch 15/15\n",
      "171/171 [==============================] - 18s 103ms/step - loss: 0.0071 - accuracy: 0.9969 - val_loss: 0.6474 - val_accuracy: 0.9137\n"
     ]
    }
   ],
   "source": [
    "# Train the model\n",
    "history = model.fit(X_train, y_train, epochs=15, batch_size=32, validation_split=0.2)"
   ]
  },
  {
   "cell_type": "markdown",
   "id": "2007f842-ea33-438a-b2ba-7774a54fb0b5",
   "metadata": {},
   "source": [
    "## Plot the curve"
   ]
  },
  {
   "cell_type": "code",
   "execution_count": 33,
   "id": "698a291a-2178-4deb-8798-f8eea35c4be0",
   "metadata": {},
   "outputs": [
    {
     "data": {
      "image/png": "[encoded data removed]",
      "text/plain": [
       "<Figure size 1200x400 with 2 Axes>"
      ]
     },
     "metadata": {},
     "output_type": "display_data"
    }
   ],
   "source": [
    "# Plot accuracy and loss curves\n",
    "plt.figure(figsize=(12, 4))\n",
    "\n",
    "# Plot training & validation accuracy values\n",
    "plt.subplot(1, 2, 1)\n",
    "plt.plot(history.history['accuracy'])\n",
    "plt.plot(history.history['val_accuracy'])\n",
    "plt.title('Model accuracy')\n",
    "plt.ylabel('Accuracy')\n",
    "plt.xlabel('Epoch')\n",
    "plt.legend(['Train', 'Validation'], loc='upper left')\n",
    "\n",
    "# Plot training & validation loss values\n",
    "plt.subplot(1, 2, 2)\n",
    "plt.plot(history.history['loss'])\n",
    "plt.plot(history.history['val_loss'])\n",
    "plt.title('Model loss')\n",
    "plt.ylabel('Loss')\n",
    "plt.xlabel('Epoch')\n",
    "plt.legend(['Train', 'Validation'], loc='upper left')\n",
    "\n",
    "plt.tight_layout()\n",
    "plt.show()"
   ]
  },
  {
   "cell_type": "code",
   "execution_count": 34,
   "id": "c70ea05f-5da5-4920-8bff-c20b0f51cef1",
   "metadata": {},
   "outputs": [
    {
     "name": "stdout",
     "output_type": "stream",
     "text": [
      "72/72 [==============================] - 3s 29ms/step\n"
     ]
    },
    {
     "data": {
      "image/png": "[encoded data removed]",
      "text/plain": [
       "<Figure size 600x400 with 1 Axes>"
      ]
     },
     "metadata": {},
     "output_type": "display_data"
    },
    {
     "name": "stdout",
     "output_type": "stream",
     "text": [
      "Accuracy Score: 0.8978070175438596\n",
      "Precision Score: 0.8751210067763795\n"
     ]
    }
   ],
   "source": [
    "# Evaluate the model on the test set\n",
    "y_pred = model.predict(X_test)\n",
    "\n",
    "y_pred_classes = [1 if pred[0] > 0.5 else 0 for pred in y_pred]\n",
    "accuracy = accuracy_score(y_test, y_pred_classes)\n",
    "precision = precision_score(y_test, y_pred_classes)\n",
    "\n",
    "# Plot confusion matrix heatmap\n",
    "plt.figure(figsize=(6, 4))\n",
    "sns.heatmap(confusion_matrix(y_test, y_pred_classes), annot=True, fmt='d', cmap='Blues', cbar=False,\n",
    "            xticklabels=['Not Intention', 'Intention'], yticklabels=['Not Intention', 'Intention'])\n",
    "plt.title('Confusion Matrix')\n",
    "plt.xlabel('Predicted')\n",
    "plt.ylabel('Actual')\n",
    "plt.show()\n",
    "\n",
    "# Print accuracy score\n",
    "print(f\"Accuracy Score: {accuracy}\")\n",
    "# Print precision score\n",
    "print(f\"Precision Score: {precision}\")"
   ]
  },
  {
   "cell_type": "markdown",
   "id": "846d4b20-9ad2-445f-8416-5993366dd1c0",
   "metadata": {},
   "source": [
    "## Prediction"
   ]
  },
  {
   "cell_type": "code",
   "execution_count": 35,
   "id": "5301e99a-e464-4632-9b4f-5190cb62af77",
   "metadata": {},
   "outputs": [
    {
     "name": "stdout",
     "output_type": "stream",
     "text": [
      "Best Threshold: 0.26\n",
      "Best F1-Score: 0.8864077669902912\n"
     ]
    }
   ],
   "source": [
    "# Find the optimal threshold from the validation set\n",
    "thresholds = np.arange(0.1, 0.3, 0.02)\n",
    "# Find the threshold that maximizes F1-score on the validation set\n",
    "best_threshold = 0.5  # Default threshold\n",
    "best_f1_score = 0.0\n",
    "\n",
    "for threshold in thresholds:\n",
    "    y_pred_classes = [1 if pred > threshold else 0 for pred in y_pred.ravel()]\n",
    "    current_f1_score = f1_score(y_test, y_pred_classes[:len(y_test)])  # Ensure length consistency\n",
    "    \n",
    "    if current_f1_score > best_f1_score:\n",
    "        best_f1_score = current_f1_score\n",
    "        best_threshold = threshold\n",
    "# Print the best threshold and F1-score\n",
    "print(f\"Best Threshold: {best_threshold}\")\n",
    "print(f\"Best F1-Score: {best_f1_score}\")"
   ]
  },
  {
   "cell_type": "code",
   "execution_count": 38,
   "id": "16a7f065-1112-41ab-9a65-63b006281a4b",
   "metadata": {},
   "outputs": [
    {
     "name": "stdout",
     "output_type": "stream",
     "text": [
      "1/1 [==============================] - 0s 57ms/step\n",
      "1/1 [==============================] - 0s 45ms/step\n",
      "Predicted Probability: 4.993900074623525e-05\n",
      "Predicted Class: Not Intention\n",
      "Predicted Probability: 2.891844417263201e-07\n",
      "Predicted Class: Not Intention\n"
     ]
    }
   ],
   "source": [
    "# Example of a new tweet for prediction\n",
    "new_tweet = [\"i am 16 and hate myself so much i have very little friends an introvert never had a girlfriend been bullied a lot and rejected a lot please help me i dont deserve to be on this earth\"]\n",
    "happy = [\"it is a very wonderfull day to start new work\"]\n",
    "# I wish i were dead. I wish I had not been born.i am 16 and hate myself so much i have very little friends an introvert never had a girlfriend been bullied a lot and rejected a lot please help me i dont deserve to be on this earth\n",
    "# Clean the new tweet\n",
    "cleaned_new_tweet = clean_text(new_tweet[0])\n",
    "cleaned_happy_tweet =clean_text(happy[0])\n",
    "\n",
    "# Tokenize and pad the sequence\n",
    "new_sequence = tokenizer.texts_to_sequences([cleaned_new_tweet])\n",
    "padded_new_sequence = pad_sequences(new_sequence, maxlen=100, padding='post', truncating='post')\n",
    "\n",
    "happy_sequence = tokenizer.texts_to_sequences([cleaned_happy_tweet])\n",
    "padded_happy_sequence = pad_sequences(happy_sequence, maxlen=100, padding='post', truncating='post')\n",
    "\n",
    "# Make predictions\n",
    "prediction = model.predict(padded_new_sequence)\n",
    "prediction1 = model.predict(padded_happy_sequence)\n",
    "\n",
    "# Interpret the prediction\n",
    "prediction_class = 1 if prediction[0][0] > best_threshold else 0\n",
    "prediction1_class = 1 if prediction1[0][0] > best_threshold else 0\n",
    "\n",
    "# Display the result\n",
    "print(f\"Predicted Probability: {prediction[0][0]}\")\n",
    "print(f\"Predicted Class: {'Intention' if prediction_class == 1 else 'Not Intention'}\")\n",
    "\n",
    "print(f\"Predicted Probability: {prediction1[0][0]}\")\n",
    "print(f\"Predicted Class: {'Intention' if prediction1_class == 1 else 'Not Intention'}\")\n"
   ]
  },
  {
   "cell_type": "code",
   "execution_count": 37,
   "id": "c2af1224-8e4c-410b-94e6-45be17fe9ff3",
   "metadata": {},
   "outputs": [
    {
     "name": "stdout",
     "output_type": "stream",
     "text": [
      "72/72 [==============================] - 2s 30ms/step - loss: 0.7156 - accuracy: 0.8978\n",
      "Initial Model - Test Accuracy: 0.8978\n"
     ]
    }
   ],
   "source": [
    "# Evaluate the initial model on the test set\n",
    "model_evaluation = model.evaluate(X_test, y_test)\n",
    "print(f'Initial Model - Test Accuracy: {model_evaluation[1]:.4f}')"
   ]
  },
  {
   "cell_type": "code",
   "execution_count": null,
   "id": "53225185-fa73-4e0f-9b92-3d9648439e2b",
   "metadata": {},
   "outputs": [],
   "source": []
  }
 ],
 "metadata": {
  "kernelspec": {
   "display_name": "Python 3 (ipykernel)",
   "language": "python",
   "name": "python3"
  },
  "language_info": {
   "codemirror_mode": {
    "name": "ipython",
    "version": 3
   },
   "file_extension": ".py",
   "mimetype": "text/x-python",
   "name": "python",
   "nbconvert_exporter": "python",
   "pygments_lexer": "ipython3",
   "version": "3.11.5"
  }
 },
 "nbformat": 4,
 "nbformat_minor": 5
}
